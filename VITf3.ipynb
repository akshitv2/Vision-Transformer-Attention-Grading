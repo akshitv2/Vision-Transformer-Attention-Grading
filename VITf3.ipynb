{
 "cells": [
  {
   "metadata": {
    "ExecuteTime": {
     "end_time": "2025-09-07T17:20:12.747292Z",
     "start_time": "2025-09-07T17:20:09.973599Z"
    }
   },
   "cell_type": "code",
   "source": [
    "import torch\n",
    "from transformers import AutoImageProcessor, AutoModel\n",
    "from transformers.image_utils import load_image\n",
    "from PIL import Image\n",
    "import requests\n",
    "\n",
    "url = \"http://images.cocodataset.org/val2017/000000039769.jpg\"\n",
    "image = load_image(url)\n",
    "\n",
    "pretrained_model_name = \"facebook/dinov3-vitb16-pretrain-lvd1689m\"\n",
    "processor = AutoImageProcessor.from_pretrained(pretrained_model_name)\n",
    "model = AutoModel.from_pretrained(\n",
    "    pretrained_model_name,\n",
    "    device_map=\"auto\",\n",
    "     output_attentions=True\n",
    ")\n",
    "\n",
    "inputs = processor(images=image, return_tensors=\"pt\").to(model.device)\n",
    "with torch.inference_mode():\n",
    "    outputs = model(**inputs)\n",
    "\n",
    "pooled_output = outputs.pooler_output\n",
    "print(\"Pooled output shape:\", pooled_output.shape)"
   ],
   "id": "a1f8c82057f8f45",
   "outputs": [
    {
     "data": {
      "text/plain": [
       "Fetching 1 files:   0%|          | 0/1 [00:00<?, ?it/s]"
      ],
      "application/vnd.jupyter.widget-view+json": {
       "version_major": 2,
       "version_minor": 0,
       "model_id": "6ef694a3ef22470ea376e84f5a56f270"
      }
     },
     "metadata": {},
     "output_type": "display_data"
    },
    {
     "name": "stdout",
     "output_type": "stream",
     "text": [
      "Pooled output shape: torch.Size([1, 768])\n"
     ]
    }
   ],
   "execution_count": 26
  },
  {
   "metadata": {
    "ExecuteTime": {
     "end_time": "2025-09-07T17:20:49.788335Z",
     "start_time": "2025-09-07T17:20:49.773813Z"
    }
   },
   "cell_type": "code",
   "source": [
    "import matplotlib.pyplot as plt\n",
    "import numpy as np"
   ],
   "id": "13750287684d5a15",
   "outputs": [],
   "execution_count": 33
  },
  {
   "metadata": {
    "ExecuteTime": {
     "end_time": "2025-09-07T17:22:23.765375Z",
     "start_time": "2025-09-07T17:22:23.585170Z"
    }
   },
   "cell_type": "code",
   "source": [
    "with torch.no_grad():\n",
    "    outputs = model(**inputs, output_attentions=True)\n",
    "outputs.attentions[-1].shape"
   ],
   "id": "1ee2c5868e9c0cc0",
   "outputs": [
    {
     "data": {
      "text/plain": [
       "torch.Size([1, 12, 201, 201])"
      ]
     },
     "execution_count": 39,
     "metadata": {},
     "output_type": "execute_result"
    }
   ],
   "execution_count": 39
  },
  {
   "metadata": {
    "ExecuteTime": {
     "end_time": "2025-09-07T17:23:24.979157Z",
     "start_time": "2025-09-07T17:23:18.696737Z"
    }
   },
   "cell_type": "code",
   "source": [
    "# Forward pass with attention outputs\n",
    "def getAttentionMap(image):\n",
    "    inputs = processor(images=image, return_tensors=\"pt\")\n",
    "    model.eval()\n",
    "    with torch.no_grad():\n",
    "        outputs = model(**inputs, output_attentions=True)\n",
    "\n",
    "    # Extract attention weights (last layer, average across heads)\n",
    "    attentions = outputs.attentions[-1]  # Shape: [batch_size, num_heads, seq_len, seq_len]\n",
    "    attentions = attentions.mean(dim=1)  # Average across heads: [batch_size, seq_len, seq_len]\n",
    "\n",
    "    # Get attention scores for the class token (index 0)\n",
    "    cls_attention = attentions[0, 0, 1:]  # Exclude class token self-attention\n",
    "    num_patches = int(np.sqrt(cls_attention.shape[0]))  # e.g., 14 for 14x14 grid\n",
    "    print(cls_attention.shape[0])\n",
    "    print(num_patches)\n",
    "    attention_map = cls_attention.reshape(num_patches, num_patches).cpu().numpy()\n",
    "\n",
    "    # Upscale attention map to image size\n",
    "    from scipy.ndimage import zoom\n",
    "    attention_map = zoom(attention_map, zoom=(image.size[1] / num_patches, image.size[0] / num_patches))\n",
    "\n",
    "    # Visualize original image and attention heatmap\n",
    "    plt.figure(figsize=(10, 5))\n",
    "    plt.subplot(1, 2, 1)\n",
    "    plt.imshow(image)\n",
    "    plt.title(\"Original Image\")\n",
    "    plt.axis(\"off\")\n",
    "\n",
    "    plt.subplot(1, 2, 2)\n",
    "    plt.imshow(image, alpha=0.5)\n",
    "    plt.imshow(attention_map, cmap=\"hot\", alpha=0.5)\n",
    "    plt.title(\"Attention Heatmap\")\n",
    "    plt.axis(\"off\")\n",
    "    plt.show()\n",
    "url = \"https://picsum.photos/200\"\n",
    "image = Image.open(requests.get(url, stream=True).raw).convert(\"RGB\")\n",
    "getAttentionMap(image)"
   ],
   "id": "598666fdd1b35e39",
   "outputs": [
    {
     "name": "stdout",
     "output_type": "stream",
     "text": [
      "200\n",
      "14\n"
     ]
    },
    {
     "ename": "RuntimeError",
     "evalue": "shape '[14, 14]' is invalid for input of size 200",
     "output_type": "error",
     "traceback": [
      "\u001B[1;31m---------------------------------------------------------------------------\u001B[0m",
      "\u001B[1;31mRuntimeError\u001B[0m                              Traceback (most recent call last)",
      "Cell \u001B[1;32mIn[41], line 38\u001B[0m\n\u001B[0;32m     36\u001B[0m url \u001B[38;5;241m=\u001B[39m \u001B[38;5;124m\"\u001B[39m\u001B[38;5;124mhttps://picsum.photos/200\u001B[39m\u001B[38;5;124m\"\u001B[39m\n\u001B[0;32m     37\u001B[0m image \u001B[38;5;241m=\u001B[39m Image\u001B[38;5;241m.\u001B[39mopen(requests\u001B[38;5;241m.\u001B[39mget(url, stream\u001B[38;5;241m=\u001B[39m\u001B[38;5;28;01mTrue\u001B[39;00m)\u001B[38;5;241m.\u001B[39mraw)\u001B[38;5;241m.\u001B[39mconvert(\u001B[38;5;124m\"\u001B[39m\u001B[38;5;124mRGB\u001B[39m\u001B[38;5;124m\"\u001B[39m)\n\u001B[1;32m---> 38\u001B[0m \u001B[43mgetAttentionMap\u001B[49m\u001B[43m(\u001B[49m\u001B[43mimage\u001B[49m\u001B[43m)\u001B[49m\n",
      "Cell \u001B[1;32mIn[41], line 17\u001B[0m, in \u001B[0;36mgetAttentionMap\u001B[1;34m(image)\u001B[0m\n\u001B[0;32m     15\u001B[0m \u001B[38;5;28mprint\u001B[39m(cls_attention\u001B[38;5;241m.\u001B[39mshape[\u001B[38;5;241m0\u001B[39m])\n\u001B[0;32m     16\u001B[0m \u001B[38;5;28mprint\u001B[39m(num_patches)\n\u001B[1;32m---> 17\u001B[0m attention_map \u001B[38;5;241m=\u001B[39m \u001B[43mcls_attention\u001B[49m\u001B[38;5;241;43m.\u001B[39;49m\u001B[43mreshape\u001B[49m\u001B[43m(\u001B[49m\u001B[43mnum_patches\u001B[49m\u001B[43m,\u001B[49m\u001B[43m \u001B[49m\u001B[43mnum_patches\u001B[49m\u001B[43m)\u001B[49m\u001B[38;5;241m.\u001B[39mcpu()\u001B[38;5;241m.\u001B[39mnumpy()\n\u001B[0;32m     19\u001B[0m \u001B[38;5;66;03m# Upscale attention map to image size\u001B[39;00m\n\u001B[0;32m     20\u001B[0m \u001B[38;5;28;01mfrom\u001B[39;00m\u001B[38;5;250m \u001B[39m\u001B[38;5;21;01mscipy\u001B[39;00m\u001B[38;5;21;01m.\u001B[39;00m\u001B[38;5;21;01mndimage\u001B[39;00m\u001B[38;5;250m \u001B[39m\u001B[38;5;28;01mimport\u001B[39;00m zoom\n",
      "\u001B[1;31mRuntimeError\u001B[0m: shape '[14, 14]' is invalid for input of size 200"
     ]
    }
   ],
   "execution_count": 41
  }
 ],
 "metadata": {
  "kernelspec": {
   "display_name": "Python 3",
   "language": "python",
   "name": "python3"
  },
  "language_info": {
   "codemirror_mode": {
    "name": "ipython",
    "version": 2
   },
   "file_extension": ".py",
   "mimetype": "text/x-python",
   "name": "python",
   "nbconvert_exporter": "python",
   "pygments_lexer": "ipython2",
   "version": "2.7.6"
  }
 },
 "nbformat": 4,
 "nbformat_minor": 5
}
